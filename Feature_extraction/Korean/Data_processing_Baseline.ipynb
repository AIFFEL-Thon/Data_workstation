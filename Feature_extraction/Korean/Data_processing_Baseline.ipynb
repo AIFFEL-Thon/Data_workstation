{
  "cells": [
    {
      "cell_type": "markdown",
      "metadata": {
        "id": "BB5moTsrvGNo"
      },
      "source": [
        "# 메소드 하나로 작업 원한다 해서 코드 보는 중"
      ]
    },
    {
      "cell_type": "markdown",
      "metadata": {
        "id": "eUnUL7e0RunN"
      },
      "source": [
        "# 0. 환경설정"
      ]
    },
    {
      "cell_type": "code",
      "execution_count": null,
      "metadata": {
        "id": "1HOBs6BCKA6J"
      },
      "outputs": [],
      "source": [
        "!pip install praat-parselmouth"
      ]
    },
    {
      "cell_type": "code",
      "execution_count": null,
      "metadata": {
        "id": "En6X2zxMLGxS"
      },
      "outputs": [],
      "source": [
        "import parselmouth\n",
        "from parselmouth.praat import call\n",
        "import numpy as np\n",
        "import pandas as pd\n",
        "import os\n",
        "import matplotlib.pyplot as plt\n",
        "import google.colab.drive as drive\n",
        "drive.mount('/content/drive/')"
      ]
    },
    {
      "cell_type": "markdown",
      "metadata": {
        "id": "oY6NX3XURsxI"
      },
      "source": [
        "# 1. Extract and Modulate Pitch Contour: Using Threshold"
      ]
    },
    {
      "cell_type": "code",
      "execution_count": null,
      "metadata": {
        "id": "7B6qKUOnLIrX"
      },
      "outputs": [],
      "source": [
        "def stylize_pitch_manually(pitch_values, time_stamps, threshold=10.0):\n",
        "    \"\"\"\n",
        "    음높이 데이터를 스타일화하여 불필요한 변화를 제거합니다.\n",
        "    - pitch_values: 음높이 값 배열\n",
        "    - time_stamps: 시간 값 배열\n",
        "    - threshold: 두 음높이 값 간의 최소 차이 (Hz 단위)\n",
        "    \"\"\"\n",
        "    stylized_pitch = [pitch_values[0]]  # 첫 음높이 값 포함\n",
        "    stylized_time = [time_stamps[0]]   # 첫 시간 포함\n",
        "\n",
        "    for i in range(1, len(pitch_values)):\n",
        "        # 이전 값과 현재 값의 차이가 threshold보다 크면 추가\n",
        "        if abs(pitch_values[i] - stylized_pitch[-1]) >= threshold:\n",
        "            stylized_pitch.append(pitch_values[i])\n",
        "            stylized_time.append(time_stamps[i])\n",
        "\n",
        "    return np.array(stylized_pitch), np.array(stylized_time)\n",
        "\n",
        "def calculate_movement_distance_and_slope(pitch_values, time_stamps):\n",
        "    \"\"\"\n",
        "    음높이 움직임의 이동 거리와 기울기를 계산합니다.\n",
        "    - pitch_values: 음높이 값 목록\n",
        "    - time_stamps: 음높이 값에 해당하는 시간 목록\n",
        "    \"\"\"\n",
        "    # 음높이 값을 0~100 사이로 정규화합니다.\n",
        "    min_pitch = np.min(pitch_values)  # 음높이의 최솟값\n",
        "    max_pitch = np.max(pitch_values)  # 음높이의 최댓값\n",
        "    normalized_pitch = (pitch_values - min_pitch) / (max_pitch - min_pitch) * 100\n",
        "\n",
        "    # 시간 값을 0~100 사이로 정규화합니다.\n",
        "    min_time = np.min(time_stamps)\n",
        "    max_time = np.max(time_stamps)\n",
        "    normalized_time = (time_stamps - min_time) / (max_time - min_time) * 100\n",
        "\n",
        "    movement_data = []  # 이동 거리와 기울기를 저장할 리스트\n",
        "    for i in range(1, len(normalized_pitch)):\n",
        "        delta_pitch = normalized_pitch[i] - normalized_pitch[i - 1]  # 음높이 차이\n",
        "        delta_time = normalized_time[i] - normalized_time[i - 1]  # 시간 차이\n",
        "        distance = np.sqrt(delta_pitch**2 + delta_time**2)  # 피타고라스 정리로 이동 거리 계산\n",
        "        slope = delta_pitch / delta_time if delta_time != 0 else 0  # 기울기 계산\n",
        "        movement_data.append({\n",
        "            'start_time': normalized_time[i - 1],\n",
        "            'end_time': normalized_time[i],\n",
        "            'start_pitch': normalized_pitch[i - 1],\n",
        "            'end_pitch': normalized_pitch[i],\n",
        "            'distance': distance,\n",
        "            'slope': slope\n",
        "        })\n",
        "\n",
        "    return movement_data\n",
        "\n",
        "def extract_pitch_features_with_stylization_and_distance(audio_file, threshold=10.0):  # threshold=10으로 고정\n",
        "    \"\"\"\n",
        "    Extract stylized pitch features including movement distance and slope from an audio file.\n",
        "    \"\"\"\n",
        "    sound = parselmouth.Sound(audio_file)\n",
        "    pitch = sound.to_pitch_ac(time_step=0.01, pitch_floor=50, pitch_ceiling=500) # time_step=0.01 (default)\n",
        "\n",
        "    # Extract raw pitch values and timestamps\n",
        "    pitch_values = pitch.selected_array['frequency']\n",
        "    time_stamps = pitch.xs()\n",
        "\n",
        "    # Filter out unvoiced segments\n",
        "    valid_indices = pitch_values > 0\n",
        "    pitch_values = pitch_values[valid_indices]\n",
        "    time_stamps = time_stamps[valid_indices]\n",
        "\n",
        "    if len(pitch_values) == 0:\n",
        "        print(f\"No valid pitch values found in {audio_file}\")\n",
        "        return []\n",
        "\n",
        "    # Apply manual stylization\n",
        "    stylized_pitch, stylized_time = stylize_pitch_manually(pitch_values, time_stamps, threshold)\n",
        "\n",
        "    # Visualize the results\n",
        "    visualize_pitch_values(stylized_pitch, stylized_time, title=\"Stylized Pitch Values\")\n",
        "\n",
        "    # Calculate movement distance and slope\n",
        "    movement_data = calculate_movement_distance_and_slope(stylized_pitch, stylized_time)\n",
        "\n",
        "    return movement_data\n"
      ]
    },
    {
      "cell_type": "code",
      "execution_count": null,
      "metadata": {
        "id": "g-jHSzu3MDyn"
      },
      "outputs": [],
      "source": [
        "def visualize_pitch_values(pitch_values, time_stamps, title=\"Pitch Values\"):\n",
        "    \"\"\"Plot pitch values for visualization.\"\"\"\n",
        "    plt.figure(figsize=(10, 5))\n",
        "    plt.plot(time_stamps, pitch_values, label='Pitch Curve')\n",
        "    plt.title(title)\n",
        "    plt.xlabel('Time (s)')\n",
        "    plt.ylabel('Pitch (Hz or Normalized)')\n",
        "    plt.ylim(50, 500)  # 음역대와 일치시킴\n",
        "    plt.legend()\n",
        "    plt.grid(True)\n",
        "    plt.show()\n",
        "\n",
        "def save_to_csv(data, output_file):\n",
        "    \"\"\"Save all extracted pitch data to a single CSV file.\"\"\"\n",
        "    df = pd.DataFrame(data)\n",
        "    df.to_csv(output_file, index=False)"
      ]
    },
    {
      "cell_type": "code",
      "execution_count": null,
      "metadata": {
        "id": "P0BIJKy-N41A"
      },
      "outputs": [],
      "source": [
        "def save2csv_pitch_threshold_process(input_folder, output_file, threshold=10):\n",
        "    \"\"\"\n",
        "    Processes all .wav files in a folder, extracts pitch features, and saves them to a CSV file.\n",
        "    - input_folder: Path to the folder containing .wav files\n",
        "    - output_file: Path to save the output CSV file\n",
        "    - threshold: Threshold for pitch stylization\n",
        "    \"\"\"\n",
        "    all_pitch_data = []  # List to store features from all files\n",
        "\n",
        "    # Loop through all files in the input folder\n",
        "    for file_name in os.listdir(input_folder):\n",
        "        if file_name.endswith(\".wav\"):  # Process only .wav files\n",
        "            audio_file = os.path.join(input_folder, file_name)\n",
        "            try:\n",
        "                # Extract features for the current file\n",
        "                pitch_data = extract_pitch_features_with_stylization_and_distance(audio_file, threshold)\n",
        "\n",
        "                # Add a column to identify the source file\n",
        "                for entry in pitch_data:\n",
        "                    entry['file_name'] = file_name\n",
        "\n",
        "                all_pitch_data.extend(pitch_data)  # Add to the overall list\n",
        "\n",
        "                print(f\"Processed {file_name}.\")\n",
        "            except Exception as e:\n",
        "                print(f\"Error processing {file_name}: {e}\")\n",
        "\n",
        "    if all_pitch_data:\n",
        "        # Save all features to a single CSV file\n",
        "        save_to_csv(all_pitch_data, output_file)\n",
        "        print(f\"All features saved to {output_file}.\")\n",
        "    else:\n",
        "        print(\"No pitch data was extracted.\")\n",
        "        return pd.DataFrame()"
      ]
    },
    {
      "cell_type": "code",
      "execution_count": null,
      "metadata": {
        "id": "jy8ytj9oNNG7"
      },
      "outputs": [],
      "source": [
        "# Define the folder containing audio files and output folder\n",
        "input_folder = \"/content/drive/MyDrive/AIFFELthon/Data/Sample/literature_100/sample\"\n",
        "output_file = \"/content/all_features.csv\""
      ]
    },
    {
      "cell_type": "code",
      "execution_count": null,
      "metadata": {
        "id": "yjpM20H9PFyc"
      },
      "outputs": [],
      "source": [
        "df = save2csv_pitch_threshold_process(input_folder, output_file)\n",
        "\n",
        "# Display the first few rows of the DataFrame if data exists\n",
        "if not df.empty:\n",
        "    print(df.head())"
      ]
    },
    {
      "cell_type": "markdown",
      "metadata": {
        "id": "fOCsx2ybR4-8"
      },
      "source": [
        "# 2. Generate Pitch Movement Slope Data\n",
        "- Intonation Curve Standardization\n",
        "- the physical feature of pitch range, moving time, moving distance, slope\n",
        "\n",
        "**Reference**\n",
        "  - Jeahyuk Oh. (2014). *A Study of Methods of Standardization for Korean Intonation Curve*. 한국어학, 62, 395-420.\n",
        "  - Jeahyuk Oh. (2024).*Improving the objectivity of intonation transcription*. 한말연구, 65(25), 1-20."
      ]
    },
    {
      "cell_type": "code",
      "execution_count": null,
      "metadata": {
        "id": "h1INhcxeo54u"
      },
      "outputs": [],
      "source": [
        "def group_pitch_data(df):\n",
        "    \"\"\"\n",
        "    Groups pitch data by 'file_name'.\n",
        "    - df: DataFrame containing pitch features\n",
        "    - Returns: Grouped object\n",
        "    \"\"\"\n",
        "    if not df.empty:\n",
        "        return df.groupby('file_name')\n",
        "    else:\n",
        "        print(\"DataFrame is empty. Cannot group data.\")\n",
        "        return None"
      ]
    },
    {
      "cell_type": "code",
      "execution_count": null,
      "metadata": {
        "id": "vakkzCnISGS-"
      },
      "outputs": [],
      "source": [
        "df_pitch_movement = pd.DataFrame(all_pitch_data)\n",
        "df_pitch_movement"
      ]
    },
    {
      "cell_type": "code",
      "execution_count": null,
      "metadata": {
        "id": "yI6ukFKuVsgS"
      },
      "outputs": [],
      "source": [
        "grouped = df_pitch_movement.groupby('file_name')"
      ]
    },
    {
      "cell_type": "code",
      "execution_count": null,
      "metadata": {
        "id": "ZDOc-u9WWPCp"
      },
      "outputs": [],
      "source": [
        "'''\n",
        "for file_name, group in grouped:\n",
        "    plt.figure(figsize=(10, 6))\n",
        "    plt.plot(group['start_time'], group['slope'], marker='o', label=f'{file_name}')\n",
        "    plt.title(f'Slope Values for {file_name}', fontsize=14)\n",
        "    plt.xlabel('Start Time (s)', fontsize=12)\n",
        "    plt.ylabel('Slope', fontsize=12)\n",
        "    plt.legend()\n",
        "    plt.grid(True)\n",
        "    plt.show()\n",
        "'''"
      ]
    },
    {
      "cell_type": "code",
      "execution_count": null,
      "metadata": {
        "id": "S_onJnApfhYy"
      },
      "outputs": [],
      "source": [
        "# 구글 드라이브에서 데이터 불러오기\n",
        "drive_csv_path = \"/content/drive/MyDrive/AIFFELthon/Data/Literature/label_lit.csv\"  # 사용자가 제공할 파일 경로\n",
        "full_data = pd.read_csv(drive_csv_path)"
      ]
    },
    {
      "cell_type": "code",
      "execution_count": null,
      "metadata": {
        "id": "vk60L4-YV5dB"
      },
      "outputs": [],
      "source": [
        "# 불러온 데이터에서 필요한 행만 필터링\n",
        "matching_filenames = df_pitch_movement['file_name'].unique()\n",
        "filtered_data = full_data[full_data['voice_piece_filename'].isin(matching_filenames)]\n",
        "\n",
        "# 필요한 컬럼만 유지\n",
        "columns_to_keep = ['voice_piece_filename', 'styles', 'emotions', 'gender', 'age', 'disagree']\n",
        "filtered_data = filtered_data[columns_to_keep]\n",
        "\n",
        "# 원본 데이터프레임과 필터링된 데이터프레임 결합\n",
        "merged_data = df_pitch_movement.merge(filtered_data, left_on='file_name', right_on='voice_piece_filename', how='inner')"
      ]
    },
    {
      "cell_type": "code",
      "execution_count": null,
      "metadata": {
        "id": "Bq8ONvDDfcvK"
      },
      "outputs": [],
      "source": []
    },
    {
      "cell_type": "markdown",
      "metadata": {
        "id": "6NZmCZo6WfY4"
      },
      "source": [
        "# 3. Intonation Curve Standardization"
      ]
    },
    {
      "cell_type": "code",
      "execution_count": null,
      "metadata": {
        "id": "f-L5tdlxWgkS"
      },
      "outputs": [],
      "source": [
        "def extract_pitch_from_sound(sound_file, pitch_floor=50, pitch_ceiling=500):\n",
        "    \"\"\"\n",
        "    음성 파일에서 음높이 데이터를 추출합니다.\n",
        "    \"\"\"\n",
        "    sound = parselmouth.Sound(sound_file)\n",
        "    pitch = sound.to_pitch_ac(time_step=0.01, pitch_floor=pitch_floor, pitch_ceiling=pitch_ceiling)\n",
        "\n",
        "    # 음높이 값 및 시간 값 추출\n",
        "    pitch_values = pitch.selected_array['frequency']\n",
        "    time_stamps = pitch.xs()\n",
        "\n",
        "    # 무성(unvoiced) 부분 제거\n",
        "    valid_indices = pitch_values > 0\n",
        "    pitch_values = pitch_values[valid_indices]\n",
        "    time_stamps = time_stamps[valid_indices]\n",
        "\n",
        "    return time_stamps, pitch_values\n",
        "\n",
        "def stylize_pitch_tier_from_sound(sound_file, frequency_resolution=2.0, pitch_floor=50, pitch_ceiling=500):\n",
        "    \"\"\"\n",
        "    음성 파일에서 PitchTier를 생성하고 스타일화합니다.\n",
        "    \"\"\"\n",
        "    try:\n",
        "        # 음성 파일에서 Pitch 추출\n",
        "        sound = parselmouth.Sound(sound_file)\n",
        "        pitch = sound.to_pitch_ac(time_step=0.01, pitch_floor=pitch_floor, pitch_ceiling=pitch_ceiling)\n",
        "\n",
        "        # Pitch를 PitchTier로 변환\n",
        "        manipulation = call(sound, \"To Manipulation\", 0.01, pitch_floor, pitch_ceiling)\n",
        "        pitch_tier = call(manipulation, \"Extract pitch tier\")\n",
        "\n",
        "\n",
        "        # 스타일화 수행\n",
        "        call(pitch_tier, \"Stylize...\", frequency_resolution, \"semitones\")\n",
        "\n",
        "        # 스타일화된 값 추출\n",
        "        # PitchTire 객체에서는 값 추출이 불가능함 (API 제공 X)\n",
        "        # Praat의 Synthesize > \"To Pitch...\" 이용하여 다시 pitch 객체로 변환\n",
        "        close_copy_pitch = call(pitch_tier, \"To Pitch...\", 0.01, pitch_floor, pitch_ceiling)\n",
        "\n",
        "        stylized_pitch = close_copy_pitch.selected_array['frequency']\n",
        "        stylized_time = close_copy_pitch.xs()\n",
        "\n",
        "        if len(stylized_time) == 0 or len(stylized_pitch) == 0:\n",
        "            raise ValueError(\"Stylized time or pitch is empty.\")\n",
        "\n",
        "        return np.array(stylized_time), np.array(stylized_pitch)\n",
        "\n",
        "    except Exception as e:\n",
        "        print(f\"Failed to process {sound_file}: {e}\")\n",
        "        return np.array([]), np.array([])\n",
        "\n",
        "\n",
        "def calculate_slopes(stylized_time, stylized_pitch):\n",
        "    \"\"\"\n",
        "    스타일화된 Pitch 데이터를 바탕으로 각 구간의 기울기를 계산합니다.\n",
        "    \"\"\"\n",
        "    slopes = []\n",
        "    for i in range(1, len(stylized_time)):\n",
        "        delta_pitch = stylized_pitch[i] - stylized_pitch[i - 1]\n",
        "        delta_time = stylized_time[i] - stylized_time[i - 1]\n",
        "        slope = delta_pitch / delta_time if delta_time != 0 else 0\n",
        "        slopes.append(slope)\n",
        "    return np.array(slopes)\n",
        "\n",
        "\n",
        "def save_stylized_pitch(stylized_time, stylized_pitch, slopes, output_file):\n",
        "    \"\"\"\n",
        "    스타일화된 음높이 데이터를 CSV 파일로 저장합니다.\n",
        "    \"\"\"\n",
        "    # slopes의 길이를 stylized_time과 맞추기 위해 None 값을 추가\n",
        "    if len(slopes) < len(stylized_time):\n",
        "        slopes = list(slopes) + [None]  # 마지막 구간의 기울기 값 없음 처리\n",
        "\n",
        "    data = {\n",
        "        \"Time (s)\": stylized_time,\n",
        "        \"Pitch (Hz)\": stylized_pitch,\n",
        "        \"Slope\": slopes\n",
        "    }\n",
        "    df = pd.DataFrame(data)\n",
        "    df.to_csv(output_file, index=False)\n",
        "    print(f\"Stylized pitch data saved to {output_file}\")\n",
        "\n",
        "def process_audio_files(input_folder, output_folder):\n",
        "    os.makedirs(output_folder, exist_ok=True)\n",
        "\n",
        "    for file_name in os.listdir(input_folder):\n",
        "        if file_name.endswith(\".wav\"):\n",
        "            sound_file = os.path.join(input_folder, file_name)\n",
        "\n",
        "            base_name = os.path.splitext(file_name)[0]\n",
        "            output_plot = os.path.join(output_folder, f\"{base_name}_plot.png\")\n",
        "            output_csv = os.path.join(output_folder, f\"{base_name}_pitch.csv\")\n",
        "\n",
        "            try:\n",
        "                # PitchTier 스타일화 수행\n",
        "                stylized_time, stylized_pitch = stylize_pitch_tier_from_sound(sound_file, frequency_resolution=2.0)\n",
        "\n",
        "                # 각 구간의 기울기 계산\n",
        "                slopes = calculate_slopes(stylized_time, stylized_pitch)\n",
        "\n",
        "                # 시각화\n",
        "                plot_pitch_stylization(stylized_time, stylized_pitch, stylized_time, stylized_pitch, output_path=output_plot)\n",
        "\n",
        "                # 결과 저장\n",
        "                save_stylized_pitch(stylized_time, stylized_pitch, slopes, output_csv)\n",
        "\n",
        "                print(f\"Processed {file_name}: Plot saved to {output_plot}, CSV saved to {output_csv}.\")\n",
        "            except Exception as e:\n",
        "                print(f\"Failed to process {file_name}: {e}\")"
      ]
    },
    {
      "cell_type": "code",
      "execution_count": null,
      "metadata": {
        "id": "ANOtCYTyfA_Y"
      },
      "outputs": [],
      "source": [
        "if __name__ == \"__main__\":\n",
        "    # 입력 폴더 및 출력 폴더 경로 설정\n",
        "    input_folder = \"/content/drive/MyDrive/AIFFELthon/Data/Sample/literature_100/sample\"  # .wav 파일이 포함된 폴더 경로\n",
        "    output_folder = \"/content/processed_results_res2.0\"  # 결과 파일을 저장할 폴더\n",
        "\n",
        "    process_audio_files(input_folder, output_folder)\n"
      ]
    },
    {
      "cell_type": "code",
      "execution_count": null,
      "metadata": {
        "id": "qgtWWqR6vDgd"
      },
      "outputs": [],
      "source": []
    }
  ],
  "metadata": {
    "colab": {
      "collapsed_sections": [
        "eUnUL7e0RunN"
      ],
      "provenance": []
    },
    "kernelspec": {
      "display_name": "Python 3",
      "name": "python3"
    },
    "language_info": {
      "name": "python"
    }
  },
  "nbformat": 4,
  "nbformat_minor": 0
}
